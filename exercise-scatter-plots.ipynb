{
 "cells": [
  {
   "cell_type": "markdown",
   "id": "ecf2e01c",
   "metadata": {
    "_cell_guid": "845f04a0-59d8-4a8f-8707-107d6a37a94b",
    "_uuid": "47545988-d359-4363-a33a-e6b084e5a53b",
    "papermill": {
     "duration": 0.01058,
     "end_time": "2024-01-22T10:22:00.786917",
     "exception": false,
     "start_time": "2024-01-22T10:22:00.776337",
     "status": "completed"
    },
    "tags": []
   },
   "source": [
    "**This notebook is an exercise in the [Data Visualization](https://www.kaggle.com/learn/data-visualization) course.  You can reference the tutorial at [this link](https://www.kaggle.com/alexisbcook/scatter-plots).**\n",
    "\n",
    "---"
   ]
  },
  {
   "cell_type": "markdown",
   "id": "5f648f2b",
   "metadata": {
    "_cell_guid": "742842a1-d4e0-4563-98ec-2a3b0647e1f6",
    "_uuid": "20d5a9dc-8687-4f2f-bca4-e5cbe0fd582f",
    "papermill": {
     "duration": 0.010469,
     "end_time": "2024-01-22T10:22:00.806567",
     "exception": false,
     "start_time": "2024-01-22T10:22:00.796098",
     "status": "completed"
    },
    "tags": []
   },
   "source": [
    "In this exercise, you will use your new knowledge to propose a solution to a real-world scenario.  To succeed, you will need to import data into Python, answer questions using the data, and generate **scatter plots** to understand patterns in the data.\n",
    "\n",
    "## Scenario\n",
    "\n",
    "You work for a major candy producer, and your goal is to write a report that your company can use to guide the design of its next product.  Soon after starting your research, you stumble across this [very interesting dataset](https://fivethirtyeight.com/features/the-ultimate-halloween-candy-power-ranking/) containing results from a fun survey to crowdsource favorite candies.\n",
    "\n",
    "## Setup\n",
    "\n",
    "Run the next cell to import and configure the Python libraries that you need to complete the exercise."
   ]
  },
  {
   "cell_type": "code",
   "execution_count": 1,
   "id": "ae217e96",
   "metadata": {
    "_cell_guid": "f7b4e529-7233-4b1b-9a98-9c27e4a6b912",
    "_uuid": "a502dd62-e1ae-416f-857c-5f62bcf0cd37",
    "collapsed": false,
    "execution": {
     "iopub.execute_input": "2024-01-22T10:22:00.829384Z",
     "iopub.status.busy": "2024-01-22T10:22:00.828958Z",
     "iopub.status.idle": "2024-01-22T10:22:02.780218Z",
     "shell.execute_reply": "2024-01-22T10:22:02.779195Z"
    },
    "jupyter": {
     "outputs_hidden": false
    },
    "papermill": {
     "duration": 1.966139,
     "end_time": "2024-01-22T10:22:02.783203",
     "exception": false,
     "start_time": "2024-01-22T10:22:00.817064",
     "status": "completed"
    },
    "tags": []
   },
   "outputs": [
    {
     "name": "stdout",
     "output_type": "stream",
     "text": [
      "Setup Complete\n"
     ]
    }
   ],
   "source": [
    "import pandas as pd\n",
    "pd.plotting.register_matplotlib_converters()\n",
    "import matplotlib.pyplot as plt\n",
    "%matplotlib inline\n",
    "import seaborn as sns\n",
    "print(\"Setup Complete\")"
   ]
  },
  {
   "cell_type": "markdown",
   "id": "73d291fc",
   "metadata": {
    "_cell_guid": "2ec796f2-0af7-44d9-becc-afbfa7ec153a",
    "_uuid": "62410bef-d5ea-4473-9f72-0764cffff5f0",
    "papermill": {
     "duration": 0.010202,
     "end_time": "2024-01-22T10:22:02.803313",
     "exception": false,
     "start_time": "2024-01-22T10:22:02.793111",
     "status": "completed"
    },
    "tags": []
   },
   "source": [
    "The questions below will give you feedback on your work. Run the following cell to set up our feedback system."
   ]
  },
  {
   "cell_type": "code",
   "execution_count": 2,
   "id": "10c8b9b7",
   "metadata": {
    "_cell_guid": "36d59aa7-6e6e-41f3-b3e0-b97888692496",
    "_uuid": "73bd03e5-350e-483d-9f4f-4abab0649571",
    "collapsed": false,
    "execution": {
     "iopub.execute_input": "2024-01-22T10:22:02.826688Z",
     "iopub.status.busy": "2024-01-22T10:22:02.826014Z",
     "iopub.status.idle": "2024-01-22T10:22:02.915324Z",
     "shell.execute_reply": "2024-01-22T10:22:02.913651Z"
    },
    "jupyter": {
     "outputs_hidden": false
    },
    "papermill": {
     "duration": 0.104258,
     "end_time": "2024-01-22T10:22:02.917882",
     "exception": false,
     "start_time": "2024-01-22T10:22:02.813624",
     "status": "completed"
    },
    "tags": []
   },
   "outputs": [
    {
     "name": "stdout",
     "output_type": "stream",
     "text": [
      "Setup Complete\n"
     ]
    }
   ],
   "source": [
    "# Set up code checking\n",
    "import os\n",
    "if not os.path.exists(\"../input/candy.csv\"):\n",
    "    os.symlink(\"../input/data-for-datavis/candy.csv\", \"../input/candy.csv\") \n",
    "from learntools.core import binder\n",
    "binder.bind(globals())\n",
    "from learntools.data_viz_to_coder.ex4 import *\n",
    "print(\"Setup Complete\")"
   ]
  },
  {
   "cell_type": "markdown",
   "id": "9c74df6e",
   "metadata": {
    "_cell_guid": "129805cd-d02c-42fb-a57d-942316f8931e",
    "_uuid": "dfe22b42-bc8a-4aa0-8231-9a160168081f",
    "papermill": {
     "duration": 0.009619,
     "end_time": "2024-01-22T10:22:02.938416",
     "exception": false,
     "start_time": "2024-01-22T10:22:02.928797",
     "status": "completed"
    },
    "tags": []
   },
   "source": [
    "## Step 1: Load the Data\n",
    "\n",
    "Read the candy data file into `candy_data`.  Use the `\"id\"` column to label the rows."
   ]
  },
  {
   "cell_type": "code",
   "execution_count": 3,
   "id": "1d9140df",
   "metadata": {
    "_cell_guid": "86c911b0-86d2-4dba-a1ff-9a25d56876be",
    "_uuid": "cd080181-d1c7-40f3-bc63-ecbe6c823e98",
    "collapsed": false,
    "execution": {
     "iopub.execute_input": "2024-01-22T10:22:02.959456Z",
     "iopub.status.busy": "2024-01-22T10:22:02.958528Z",
     "iopub.status.idle": "2024-01-22T10:22:02.976454Z",
     "shell.execute_reply": "2024-01-22T10:22:02.975438Z"
    },
    "jupyter": {
     "outputs_hidden": false
    },
    "papermill": {
     "duration": 0.030569,
     "end_time": "2024-01-22T10:22:02.978413",
     "exception": false,
     "start_time": "2024-01-22T10:22:02.947844",
     "status": "completed"
    },
    "tags": []
   },
   "outputs": [
    {
     "data": {
      "application/javascript": [
       "parent.postMessage({\"jupyterEvent\": \"custom.exercise_interaction\", \"data\": {\"outcomeType\": 1, \"valueTowardsCompletion\": 0.3333333333333333, \"interactionType\": 1, \"questionType\": 1, \"questionId\": \"1_LoadData\", \"learnToolsVersion\": \"0.3.4\", \"failureMessage\": \"\", \"exceptionClass\": \"\", \"trace\": \"\"}}, \"*\")"
      ],
      "text/plain": [
       "<IPython.core.display.Javascript object>"
      ]
     },
     "metadata": {},
     "output_type": "display_data"
    },
    {
     "data": {
      "text/markdown": [
       "<span style=\"color:#33cc33\">Correct</span>"
      ],
      "text/plain": [
       "Correct"
      ]
     },
     "metadata": {},
     "output_type": "display_data"
    }
   ],
   "source": [
    "# Path of the file to read\n",
    "candy_filepath = \"../input/candy.csv\"\n",
    "\n",
    "# Fill in the line below to read the file into a variable candy_data\n",
    "candy_data = pd.read_csv(candy_filepath, index_col='id')\n",
    "\n",
    "# Run the line below with no changes to check that you've loaded the data correctly\n",
    "step_1.check()"
   ]
  },
  {
   "cell_type": "code",
   "execution_count": 4,
   "id": "71257722",
   "metadata": {
    "_cell_guid": "067f1928-7eac-4462-b9b1-2c416c3e788a",
    "_uuid": "eac24f21-aac1-442c-b3bf-ccaa3725f4f7",
    "collapsed": false,
    "execution": {
     "iopub.execute_input": "2024-01-22T10:22:02.999447Z",
     "iopub.status.busy": "2024-01-22T10:22:02.999077Z",
     "iopub.status.idle": "2024-01-22T10:22:03.003827Z",
     "shell.execute_reply": "2024-01-22T10:22:03.002749Z"
    },
    "jupyter": {
     "outputs_hidden": false
    },
    "papermill": {
     "duration": 0.017462,
     "end_time": "2024-01-22T10:22:03.005560",
     "exception": false,
     "start_time": "2024-01-22T10:22:02.988098",
     "status": "completed"
    },
    "tags": []
   },
   "outputs": [],
   "source": [
    "# Lines below will give you a hint or solution code\n",
    "#step_1.hint()\n",
    "#step_1.solution()"
   ]
  },
  {
   "cell_type": "markdown",
   "id": "f40b6537",
   "metadata": {
    "_cell_guid": "883f3894-a8d1-46b1-90b5-48ea3ba74d99",
    "_uuid": "74625cac-5c71-4299-b46f-eed2dd77ea69",
    "papermill": {
     "duration": 0.009465,
     "end_time": "2024-01-22T10:22:03.024784",
     "exception": false,
     "start_time": "2024-01-22T10:22:03.015319",
     "status": "completed"
    },
    "tags": []
   },
   "source": [
    "## Step 2: Review the data\n",
    "\n",
    "Use a Python command to print the first five rows of the data."
   ]
  },
  {
   "cell_type": "code",
   "execution_count": 5,
   "id": "79078960",
   "metadata": {
    "_cell_guid": "c2767e4c-a3ad-4074-914f-c1f2b4b7b1e0",
    "_uuid": "bb3efa74-5e6f-4b09-a9cd-4028612ec304",
    "collapsed": false,
    "execution": {
     "iopub.execute_input": "2024-01-22T10:22:03.048172Z",
     "iopub.status.busy": "2024-01-22T10:22:03.047232Z",
     "iopub.status.idle": "2024-01-22T10:22:03.072935Z",
     "shell.execute_reply": "2024-01-22T10:22:03.072053Z"
    },
    "jupyter": {
     "outputs_hidden": false
    },
    "papermill": {
     "duration": 0.040831,
     "end_time": "2024-01-22T10:22:03.075517",
     "exception": false,
     "start_time": "2024-01-22T10:22:03.034686",
     "status": "completed"
    },
    "tags": []
   },
   "outputs": [
    {
     "data": {
      "text/html": [
       "<div>\n",
       "<style scoped>\n",
       "    .dataframe tbody tr th:only-of-type {\n",
       "        vertical-align: middle;\n",
       "    }\n",
       "\n",
       "    .dataframe tbody tr th {\n",
       "        vertical-align: top;\n",
       "    }\n",
       "\n",
       "    .dataframe thead th {\n",
       "        text-align: right;\n",
       "    }\n",
       "</style>\n",
       "<table border=\"1\" class=\"dataframe\">\n",
       "  <thead>\n",
       "    <tr style=\"text-align: right;\">\n",
       "      <th></th>\n",
       "      <th>competitorname</th>\n",
       "      <th>chocolate</th>\n",
       "      <th>fruity</th>\n",
       "      <th>caramel</th>\n",
       "      <th>peanutyalmondy</th>\n",
       "      <th>nougat</th>\n",
       "      <th>crispedricewafer</th>\n",
       "      <th>hard</th>\n",
       "      <th>bar</th>\n",
       "      <th>pluribus</th>\n",
       "      <th>sugarpercent</th>\n",
       "      <th>pricepercent</th>\n",
       "      <th>winpercent</th>\n",
       "    </tr>\n",
       "    <tr>\n",
       "      <th>id</th>\n",
       "      <th></th>\n",
       "      <th></th>\n",
       "      <th></th>\n",
       "      <th></th>\n",
       "      <th></th>\n",
       "      <th></th>\n",
       "      <th></th>\n",
       "      <th></th>\n",
       "      <th></th>\n",
       "      <th></th>\n",
       "      <th></th>\n",
       "      <th></th>\n",
       "      <th></th>\n",
       "    </tr>\n",
       "  </thead>\n",
       "  <tbody>\n",
       "    <tr>\n",
       "      <th>0</th>\n",
       "      <td>100 Grand</td>\n",
       "      <td>Yes</td>\n",
       "      <td>No</td>\n",
       "      <td>Yes</td>\n",
       "      <td>No</td>\n",
       "      <td>No</td>\n",
       "      <td>Yes</td>\n",
       "      <td>No</td>\n",
       "      <td>Yes</td>\n",
       "      <td>No</td>\n",
       "      <td>0.732</td>\n",
       "      <td>0.860</td>\n",
       "      <td>66.971725</td>\n",
       "    </tr>\n",
       "    <tr>\n",
       "      <th>1</th>\n",
       "      <td>3 Musketeers</td>\n",
       "      <td>Yes</td>\n",
       "      <td>No</td>\n",
       "      <td>No</td>\n",
       "      <td>No</td>\n",
       "      <td>Yes</td>\n",
       "      <td>No</td>\n",
       "      <td>No</td>\n",
       "      <td>Yes</td>\n",
       "      <td>No</td>\n",
       "      <td>0.604</td>\n",
       "      <td>0.511</td>\n",
       "      <td>67.602936</td>\n",
       "    </tr>\n",
       "    <tr>\n",
       "      <th>2</th>\n",
       "      <td>Air Heads</td>\n",
       "      <td>No</td>\n",
       "      <td>Yes</td>\n",
       "      <td>No</td>\n",
       "      <td>No</td>\n",
       "      <td>No</td>\n",
       "      <td>No</td>\n",
       "      <td>No</td>\n",
       "      <td>No</td>\n",
       "      <td>No</td>\n",
       "      <td>0.906</td>\n",
       "      <td>0.511</td>\n",
       "      <td>52.341465</td>\n",
       "    </tr>\n",
       "    <tr>\n",
       "      <th>3</th>\n",
       "      <td>Almond Joy</td>\n",
       "      <td>Yes</td>\n",
       "      <td>No</td>\n",
       "      <td>No</td>\n",
       "      <td>Yes</td>\n",
       "      <td>No</td>\n",
       "      <td>No</td>\n",
       "      <td>No</td>\n",
       "      <td>Yes</td>\n",
       "      <td>No</td>\n",
       "      <td>0.465</td>\n",
       "      <td>0.767</td>\n",
       "      <td>50.347546</td>\n",
       "    </tr>\n",
       "    <tr>\n",
       "      <th>4</th>\n",
       "      <td>Baby Ruth</td>\n",
       "      <td>Yes</td>\n",
       "      <td>No</td>\n",
       "      <td>Yes</td>\n",
       "      <td>Yes</td>\n",
       "      <td>Yes</td>\n",
       "      <td>No</td>\n",
       "      <td>No</td>\n",
       "      <td>Yes</td>\n",
       "      <td>No</td>\n",
       "      <td>0.604</td>\n",
       "      <td>0.767</td>\n",
       "      <td>56.914547</td>\n",
       "    </tr>\n",
       "  </tbody>\n",
       "</table>\n",
       "</div>"
      ],
      "text/plain": [
       "   competitorname chocolate fruity caramel peanutyalmondy nougat  \\\n",
       "id                                                                 \n",
       "0       100 Grand       Yes     No     Yes             No     No   \n",
       "1    3 Musketeers       Yes     No      No             No    Yes   \n",
       "2       Air Heads        No    Yes      No             No     No   \n",
       "3      Almond Joy       Yes     No      No            Yes     No   \n",
       "4       Baby Ruth       Yes     No     Yes            Yes    Yes   \n",
       "\n",
       "   crispedricewafer hard  bar pluribus  sugarpercent  pricepercent  winpercent  \n",
       "id                                                                              \n",
       "0               Yes   No  Yes       No         0.732         0.860   66.971725  \n",
       "1                No   No  Yes       No         0.604         0.511   67.602936  \n",
       "2                No   No   No       No         0.906         0.511   52.341465  \n",
       "3                No   No  Yes       No         0.465         0.767   50.347546  \n",
       "4                No   No  Yes       No         0.604         0.767   56.914547  "
      ]
     },
     "execution_count": 5,
     "metadata": {},
     "output_type": "execute_result"
    }
   ],
   "source": [
    "# Print the first five rows of the data\n",
    "candy_data.head(5) # Your code here"
   ]
  },
  {
   "cell_type": "markdown",
   "id": "f37375aa",
   "metadata": {
    "_cell_guid": "2dc5ae9b-a61f-40d5-abe3-72dc7b5cba9d",
    "_uuid": "912312df-9a7d-44e6-8bad-88aba64b8d84",
    "papermill": {
     "duration": 0.010582,
     "end_time": "2024-01-22T10:22:03.097199",
     "exception": false,
     "start_time": "2024-01-22T10:22:03.086617",
     "status": "completed"
    },
    "tags": []
   },
   "source": [
    "The dataset contains 83 rows, where each corresponds to a different candy bar.  There are 13 columns:\n",
    "- `'competitorname'` contains the name of the candy bar. \n",
    "- the next **9** columns (from `'chocolate'` to `'pluribus'`) describe the candy.  For instance, rows with chocolate candies have `\"Yes\"` in the `'chocolate'` column (and candies without chocolate have `\"No\"` in the same column).\n",
    "- `'sugarpercent'` provides some indication of the amount of sugar, where higher values signify higher sugar content.\n",
    "- `'pricepercent'` shows the price per unit, relative to the other candies in the dataset.\n",
    "- `'winpercent'` is calculated from the survey results; higher values indicate that the candy was more popular with survey respondents.\n",
    "\n",
    "Use the first five rows of the data to answer the questions below."
   ]
  },
  {
   "cell_type": "code",
   "execution_count": 6,
   "id": "7fee426a",
   "metadata": {
    "_cell_guid": "95c13cd3-74d9-40bd-8d40-27b7bd647b52",
    "_uuid": "468a9aa5-2c77-4fac-8ce1-536f66e1740a",
    "collapsed": false,
    "execution": {
     "iopub.execute_input": "2024-01-22T10:22:03.188405Z",
     "iopub.status.busy": "2024-01-22T10:22:03.187825Z",
     "iopub.status.idle": "2024-01-22T10:22:03.195266Z",
     "shell.execute_reply": "2024-01-22T10:22:03.193673Z"
    },
    "jupyter": {
     "outputs_hidden": false
    },
    "papermill": {
     "duration": 0.02128,
     "end_time": "2024-01-22T10:22:03.197274",
     "exception": false,
     "start_time": "2024-01-22T10:22:03.175994",
     "status": "completed"
    },
    "tags": []
   },
   "outputs": [
    {
     "data": {
      "application/javascript": [
       "parent.postMessage({\"jupyterEvent\": \"custom.exercise_interaction\", \"data\": {\"outcomeType\": 1, \"valueTowardsCompletion\": 0.3333333333333333, \"interactionType\": 1, \"questionType\": 1, \"questionId\": \"2_ReviewData\", \"learnToolsVersion\": \"0.3.4\", \"failureMessage\": \"\", \"exceptionClass\": \"\", \"trace\": \"\"}}, \"*\")"
      ],
      "text/plain": [
       "<IPython.core.display.Javascript object>"
      ]
     },
     "metadata": {},
     "output_type": "display_data"
    },
    {
     "data": {
      "text/markdown": [
       "<span style=\"color:#33cc33\">Correct</span>"
      ],
      "text/plain": [
       "Correct"
      ]
     },
     "metadata": {},
     "output_type": "display_data"
    }
   ],
   "source": [
    "# Fill in the line below: Which candy was more popular with survey respondents:\n",
    "# '3 Musketeers' or 'Almond Joy'?  (Please enclose your answer in single quotes.)\n",
    "more_popular = '3 Musketeers'\n",
    "\n",
    "# Fill in the line below: Which candy has higher sugar content: 'Air Heads'\n",
    "# or 'Baby Ruth'? (Please enclose your answer in single quotes.)\n",
    "more_sugar = 'Air Heads'\n",
    "\n",
    "# Check your answers\n",
    "step_2.check()"
   ]
  },
  {
   "cell_type": "code",
   "execution_count": 7,
   "id": "84111e85",
   "metadata": {
    "_cell_guid": "b9998310-bcfa-4e65-b6d0-d34c637b672b",
    "_uuid": "8da528be-1bca-4269-9b22-9bf38f27137a",
    "collapsed": false,
    "execution": {
     "iopub.execute_input": "2024-01-22T10:22:03.223084Z",
     "iopub.status.busy": "2024-01-22T10:22:03.222720Z",
     "iopub.status.idle": "2024-01-22T10:22:03.227641Z",
     "shell.execute_reply": "2024-01-22T10:22:03.226555Z"
    },
    "jupyter": {
     "outputs_hidden": false
    },
    "papermill": {
     "duration": 0.020672,
     "end_time": "2024-01-22T10:22:03.230461",
     "exception": false,
     "start_time": "2024-01-22T10:22:03.209789",
     "status": "completed"
    },
    "tags": []
   },
   "outputs": [],
   "source": [
    "# Lines below will give you a hint or solution code\n",
    "#step_2.hint()\n",
    "#step_2.solution()"
   ]
  },
  {
   "cell_type": "markdown",
   "id": "7f364d96",
   "metadata": {
    "_cell_guid": "efafbe36-a23b-4528-9ad6-95928a4d8867",
    "_uuid": "2f77ac9f-745d-4cd0-9b89-ef3c8bf92ce2",
    "papermill": {
     "duration": 0.010662,
     "end_time": "2024-01-22T10:22:03.253414",
     "exception": false,
     "start_time": "2024-01-22T10:22:03.242752",
     "status": "completed"
    },
    "tags": []
   },
   "source": [
    "## Step 3: The role of sugar\n",
    "\n",
    "Do people tend to prefer candies with higher sugar content?  \n",
    "\n",
    "#### Part A\n",
    "\n",
    "Create a scatter plot that shows the relationship between `'sugarpercent'` (on the horizontal x-axis) and `'winpercent'` (on the vertical y-axis).  _Don't add a regression line just yet -- you'll do that in the next step!_"
   ]
  },
  {
   "cell_type": "code",
   "execution_count": 8,
   "id": "a6d0b4e9",
   "metadata": {
    "_cell_guid": "dfd8716c-9f72-414c-9c27-bb50ba920c67",
    "_uuid": "8736c8a8-5f2a-4178-9a8d-207ac82dd023",
    "collapsed": false,
    "execution": {
     "iopub.execute_input": "2024-01-22T10:22:03.277835Z",
     "iopub.status.busy": "2024-01-22T10:22:03.277440Z",
     "iopub.status.idle": "2024-01-22T10:22:03.568264Z",
     "shell.execute_reply": "2024-01-22T10:22:03.567286Z"
    },
    "jupyter": {
     "outputs_hidden": false
    },
    "papermill": {
     "duration": 0.30713,
     "end_time": "2024-01-22T10:22:03.571216",
     "exception": false,
     "start_time": "2024-01-22T10:22:03.264086",
     "status": "completed"
    },
    "tags": []
   },
   "outputs": [
    {
     "data": {
      "application/javascript": [
       "parent.postMessage({\"jupyterEvent\": \"custom.exercise_interaction\", \"data\": {\"outcomeType\": 1, \"valueTowardsCompletion\": 0.3333333333333333, \"interactionType\": 1, \"questionType\": 2, \"questionId\": \"3.1_PlotBlueScatter\", \"learnToolsVersion\": \"0.3.4\", \"failureMessage\": \"\", \"exceptionClass\": \"\", \"trace\": \"\"}}, \"*\")"
      ],
      "text/plain": [
       "<IPython.core.display.Javascript object>"
      ]
     },
     "metadata": {},
     "output_type": "display_data"
    },
    {
     "data": {
      "text/markdown": [
       "<span style=\"color:#33cc33\">Correct</span>"
      ],
      "text/plain": [
       "Correct"
      ]
     },
     "metadata": {},
     "output_type": "display_data"
    },
    {
     "data": {
      "image/png": "[encoded data removed]",
      "text/plain": [
       "<Figure size 640x480 with 1 Axes>"
      ]
     },
     "metadata": {},
     "output_type": "display_data"
    }
   ],
   "source": [
    "# Scatter plot showing the relationship between 'sugarpercent' and 'winpercent'\n",
    "sns.scatterplot(x='sugarpercent',y='winpercent', data=candy_data) # Your code here\n",
    "\n",
    "# Check your answer\n",
    "step_3.a.check()"
   ]
  },
  {
   "cell_type": "code",
   "execution_count": 9,
   "id": "8ed6a178",
   "metadata": {
    "_cell_guid": "b39669a9-44dc-40c9-a44d-4b159fcd2ab5",
    "_uuid": "a2c2d6b6-ac6e-45a3-9355-cfb9a04d36ab",
    "collapsed": false,
    "execution": {
     "iopub.execute_input": "2024-01-22T10:22:03.597944Z",
     "iopub.status.busy": "2024-01-22T10:22:03.597284Z",
     "iopub.status.idle": "2024-01-22T10:22:03.602091Z",
     "shell.execute_reply": "2024-01-22T10:22:03.601235Z"
    },
    "jupyter": {
     "outputs_hidden": false
    },
    "papermill": {
     "duration": 0.021345,
     "end_time": "2024-01-22T10:22:03.604403",
     "exception": false,
     "start_time": "2024-01-22T10:22:03.583058",
     "status": "completed"
    },
    "tags": []
   },
   "outputs": [],
   "source": [
    "# Lines below will give you a hint or solution code\n",
    "#step_3.a.hint()\n",
    "#step_3.a.solution_plot()"
   ]
  },
  {
   "cell_type": "markdown",
   "id": "2209ac06",
   "metadata": {
    "_cell_guid": "e55b4f42-5dce-4a94-aab4-8f4555fd2b71",
    "_uuid": "bc1b3dc5-ec1e-4b4c-89c2-1fd40b80e98f",
    "papermill": {
     "duration": 0.012174,
     "end_time": "2024-01-22T10:22:03.628502",
     "exception": false,
     "start_time": "2024-01-22T10:22:03.616328",
     "status": "completed"
    },
    "tags": []
   },
   "source": [
    "#### Part B\n",
    "\n",
    "Does the scatter plot show a **strong** correlation between the two variables?  If so, are candies with more sugar relatively more or less popular with the survey respondents?"
   ]
  },
  {
   "cell_type": "markdown",
   "id": "e0ae79aa",
   "metadata": {
    "_cell_guid": "afd26006-7cc6-411b-800a-4c811a5ec204",
    "_uuid": "6f06bfd0-5d14-4968-9beb-5b88053a34f8",
    "papermill": {
     "duration": 0.01186,
     "end_time": "2024-01-22T10:22:03.651823",
     "exception": false,
     "start_time": "2024-01-22T10:22:03.639963",
     "status": "completed"
    },
    "tags": []
   },
   "source": [
    "> The scatter plot show that there is no correlation between the two variables. Candies with more sugar or less sugar are not related with more or less popular with survey respondents."
   ]
  },
  {
   "cell_type": "code",
   "execution_count": 10,
   "id": "a1bc8c7d",
   "metadata": {
    "_cell_guid": "d352e731-bbed-4cc5-ae9c-1f6f5d648ca6",
    "_uuid": "2063646a-e962-45df-a806-f08b4032cf52",
    "collapsed": false,
    "execution": {
     "iopub.execute_input": "2024-01-22T10:22:03.675045Z",
     "iopub.status.busy": "2024-01-22T10:22:03.674714Z",
     "iopub.status.idle": "2024-01-22T10:22:03.679307Z",
     "shell.execute_reply": "2024-01-22T10:22:03.678165Z"
    },
    "jupyter": {
     "outputs_hidden": false
    },
    "papermill": {
     "duration": 0.018402,
     "end_time": "2024-01-22T10:22:03.681317",
     "exception": false,
     "start_time": "2024-01-22T10:22:03.662915",
     "status": "completed"
    },
    "tags": []
   },
   "outputs": [],
   "source": [
    "#step_3.b.hint()"
   ]
  },
  {
   "cell_type": "code",
   "execution_count": 11,
   "id": "7d35544e",
   "metadata": {
    "_cell_guid": "cf627cc5-60ec-4d45-9e8f-29a52c562b80",
    "_uuid": "2a41603f-8414-4ab2-aa21-dcd890f1b383",
    "collapsed": false,
    "execution": {
     "iopub.execute_input": "2024-01-22T10:22:03.705489Z",
     "iopub.status.busy": "2024-01-22T10:22:03.705067Z",
     "iopub.status.idle": "2024-01-22T10:22:03.712666Z",
     "shell.execute_reply": "2024-01-22T10:22:03.711242Z"
    },
    "jupyter": {
     "outputs_hidden": false
    },
    "papermill": {
     "duration": 0.02295,
     "end_time": "2024-01-22T10:22:03.715467",
     "exception": false,
     "start_time": "2024-01-22T10:22:03.692517",
     "status": "completed"
    },
    "tags": []
   },
   "outputs": [
    {
     "data": {
      "application/javascript": [
       "parent.postMessage({\"jupyterEvent\": \"custom.exercise_interaction\", \"data\": {\"interactionType\": 3, \"questionType\": 4, \"questionId\": \"3.2_ThinkBlueScatter\", \"learnToolsVersion\": \"0.3.4\", \"valueTowardsCompletion\": 0.0, \"failureMessage\": \"\", \"exceptionClass\": \"\", \"trace\": \"\", \"outcomeType\": 4}}, \"*\")"
      ],
      "text/plain": [
       "<IPython.core.display.Javascript object>"
      ]
     },
     "metadata": {},
     "output_type": "display_data"
    },
    {
     "data": {
      "text/markdown": [
       "<span style=\"color:#33cc99\">Solution:</span> The scatter plot does not show a strong correlation between the two variables. Since there is no clear relationship between the two variables, this tells us that sugar content does not play a strong role in candy popularity."
      ],
      "text/plain": [
       "Solution: The scatter plot does not show a strong correlation between the two variables. Since there is no clear relationship between the two variables, this tells us that sugar content does not play a strong role in candy popularity."
      ]
     },
     "metadata": {},
     "output_type": "display_data"
    }
   ],
   "source": [
    "# Check your answer (Run this code cell to receive credit!)\n",
    "step_3.b.solution()"
   ]
  },
  {
   "cell_type": "markdown",
   "id": "53e08148",
   "metadata": {
    "_cell_guid": "a5d382ee-40f7-4804-8a82-eac6e4609f8f",
    "_uuid": "fc8198a5-879f-4bba-8ab6-df7f724a4de1",
    "papermill": {
     "duration": 0.012396,
     "end_time": "2024-01-22T10:22:03.739493",
     "exception": false,
     "start_time": "2024-01-22T10:22:03.727097",
     "status": "completed"
    },
    "tags": []
   },
   "source": [
    "## Step 4: Take a closer look\n",
    "\n",
    "#### Part A\n",
    "\n",
    "Create the same scatter plot you created in **Step 3**, but now with a regression line!"
   ]
  },
  {
   "cell_type": "code",
   "execution_count": 12,
   "id": "d112dab4",
   "metadata": {
    "_cell_guid": "de936f56-85cd-4835-a7d6-c11993b11ecd",
    "_uuid": "44b95b95-0fb4-4854-85c8-5dc6714ef0aa",
    "collapsed": false,
    "execution": {
     "iopub.execute_input": "2024-01-22T10:22:03.766022Z",
     "iopub.status.busy": "2024-01-22T10:22:03.765620Z",
     "iopub.status.idle": "2024-01-22T10:22:04.100824Z",
     "shell.execute_reply": "2024-01-22T10:22:04.099437Z"
    },
    "jupyter": {
     "outputs_hidden": false
    },
    "papermill": {
     "duration": 0.351399,
     "end_time": "2024-01-22T10:22:04.103459",
     "exception": false,
     "start_time": "2024-01-22T10:22:03.752060",
     "status": "completed"
    },
    "tags": []
   },
   "outputs": [
    {
     "data": {
      "application/javascript": [
       "parent.postMessage({\"jupyterEvent\": \"custom.exercise_interaction\", \"data\": {\"outcomeType\": 1, \"valueTowardsCompletion\": 0.3333333333333333, \"interactionType\": 1, \"questionType\": 2, \"questionId\": \"4.1_PlotBlueReg\", \"learnToolsVersion\": \"0.3.4\", \"failureMessage\": \"\", \"exceptionClass\": \"\", \"trace\": \"\"}}, \"*\")"
      ],
      "text/plain": [
       "<IPython.core.display.Javascript object>"
      ]
     },
     "metadata": {},
     "output_type": "display_data"
    },
    {
     "data": {
      "text/markdown": [
       "<span style=\"color:#33cc33\">Correct</span>"
      ],
      "text/plain": [
       "Correct"
      ]
     },
     "metadata": {},
     "output_type": "display_data"
    },
    {
     "data": {
      "image/png": "[encoded data removed]",
      "text/plain": [
       "<Figure size 640x480 with 1 Axes>"
      ]
     },
     "metadata": {},
     "output_type": "display_data"
    }
   ],
   "source": [
    "# Scatter plot w/ regression line showing the relationship between 'sugarpercent' and 'winpercent'\n",
    "sns.regplot(x='sugarpercent',y='winpercent',data=candy_data) # Your code here\n",
    "\n",
    "# Check your answer\n",
    "step_4.a.check()"
   ]
  },
  {
   "cell_type": "code",
   "execution_count": 13,
   "id": "78a1aea6",
   "metadata": {
    "_cell_guid": "b7173406-ad27-4261-9943-92ce9a41d5dc",
    "_uuid": "ca552262-34b3-4497-aac9-2aef5112e9f0",
    "collapsed": false,
    "execution": {
     "iopub.execute_input": "2024-01-22T10:22:04.129595Z",
     "iopub.status.busy": "2024-01-22T10:22:04.129227Z",
     "iopub.status.idle": "2024-01-22T10:22:04.135082Z",
     "shell.execute_reply": "2024-01-22T10:22:04.133500Z"
    },
    "jupyter": {
     "outputs_hidden": false
    },
    "papermill": {
     "duration": 0.022248,
     "end_time": "2024-01-22T10:22:04.137933",
     "exception": false,
     "start_time": "2024-01-22T10:22:04.115685",
     "status": "completed"
    },
    "tags": []
   },
   "outputs": [],
   "source": [
    "# Lines below will give you a hint or solution code\n",
    "#step_4.a.hint()\n",
    "#step_4.a.solution_plot()"
   ]
  },
  {
   "cell_type": "markdown",
   "id": "b356856e",
   "metadata": {
    "_cell_guid": "dbeeb0e1-3ff0-4f90-aa6c-08dd2f25bcfb",
    "_uuid": "a71020db-4f60-47ca-9792-c638d5745ace",
    "papermill": {
     "duration": 0.01433,
     "end_time": "2024-01-22T10:22:04.165490",
     "exception": false,
     "start_time": "2024-01-22T10:22:04.151160",
     "status": "completed"
    },
    "tags": []
   },
   "source": [
    "#### Part B\n",
    "\n",
    "According to the plot above, is there a **slight** correlation between `'winpercent'` and `'sugarpercent'`?  What does this tell you about the candy that people tend to prefer?"
   ]
  },
  {
   "cell_type": "markdown",
   "id": "6ec2bbbc",
   "metadata": {
    "_cell_guid": "9ac7cbaa-ed0c-4828-a050-48672e75156e",
    "_uuid": "29143145-0c8c-4d11-a0be-9764a8dc4d86",
    "papermill": {
     "duration": 0.011514,
     "end_time": "2024-01-22T10:22:04.189652",
     "exception": false,
     "start_time": "2024-01-22T10:22:04.178138",
     "status": "completed"
    },
    "tags": []
   },
   "source": [
    "> The regression show that there is a slight **positive** correlation"
   ]
  },
  {
   "cell_type": "code",
   "execution_count": 14,
   "id": "c9935d29",
   "metadata": {
    "_cell_guid": "4e26cf5c-66cd-4321-ba96-a99e95615738",
    "_uuid": "d0f1f08a-5115-4180-9932-fc19b6b00a19",
    "collapsed": false,
    "execution": {
     "iopub.execute_input": "2024-01-22T10:22:04.215405Z",
     "iopub.status.busy": "2024-01-22T10:22:04.214986Z",
     "iopub.status.idle": "2024-01-22T10:22:04.220988Z",
     "shell.execute_reply": "2024-01-22T10:22:04.219430Z"
    },
    "jupyter": {
     "outputs_hidden": false
    },
    "papermill": {
     "duration": 0.02234,
     "end_time": "2024-01-22T10:22:04.223887",
     "exception": false,
     "start_time": "2024-01-22T10:22:04.201547",
     "status": "completed"
    },
    "tags": []
   },
   "outputs": [],
   "source": [
    "#step_4.b.hint()"
   ]
  },
  {
   "cell_type": "code",
   "execution_count": 15,
   "id": "96a7f4ae",
   "metadata": {
    "_cell_guid": "677971b7-e762-41b2-9985-b70781624628",
    "_uuid": "22af835a-e8e9-4b23-b382-769b3e85fa7f",
    "collapsed": false,
    "execution": {
     "iopub.execute_input": "2024-01-22T10:22:04.254481Z",
     "iopub.status.busy": "2024-01-22T10:22:04.254102Z",
     "iopub.status.idle": "2024-01-22T10:22:04.262650Z",
     "shell.execute_reply": "2024-01-22T10:22:04.261570Z"
    },
    "jupyter": {
     "outputs_hidden": false
    },
    "papermill": {
     "duration": 0.026938,
     "end_time": "2024-01-22T10:22:04.264998",
     "exception": false,
     "start_time": "2024-01-22T10:22:04.238060",
     "status": "completed"
    },
    "tags": []
   },
   "outputs": [
    {
     "data": {
      "application/javascript": [
       "parent.postMessage({\"jupyterEvent\": \"custom.exercise_interaction\", \"data\": {\"interactionType\": 3, \"questionType\": 4, \"questionId\": \"4.2_ThinkBlueReg\", \"learnToolsVersion\": \"0.3.4\", \"valueTowardsCompletion\": 0.0, \"failureMessage\": \"\", \"exceptionClass\": \"\", \"trace\": \"\", \"outcomeType\": 4}}, \"*\")"
      ],
      "text/plain": [
       "<IPython.core.display.Javascript object>"
      ]
     },
     "metadata": {},
     "output_type": "display_data"
    },
    {
     "data": {
      "text/markdown": [
       "<span style=\"color:#33cc99\">Solution:</span> Since the regression line has a slightly positive slope, this tells us that there is a slightly positive correlation between `'winpercent'` and `'sugarpercent'`. Thus, people have a slight preference for candies containing relatively more sugar."
      ],
      "text/plain": [
       "Solution: Since the regression line has a slightly positive slope, this tells us that there is a slightly positive correlation between `'winpercent'` and `'sugarpercent'`. Thus, people have a slight preference for candies containing relatively more sugar."
      ]
     },
     "metadata": {},
     "output_type": "display_data"
    }
   ],
   "source": [
    "# Check your answer (Run this code cell to receive credit!)\n",
    "step_4.b.solution()"
   ]
  },
  {
   "cell_type": "markdown",
   "id": "af559179",
   "metadata": {
    "_cell_guid": "30a56c08-f7a4-4d05-9bc7-954f9d4e4002",
    "_uuid": "4eb500cf-b00d-4103-92ae-3db161cfbbe9",
    "papermill": {
     "duration": 0.012508,
     "end_time": "2024-01-22T10:22:04.291062",
     "exception": false,
     "start_time": "2024-01-22T10:22:04.278554",
     "status": "completed"
    },
    "tags": []
   },
   "source": [
    "## Step 5: Chocolate!\n",
    "\n",
    "In the code cell below, create a scatter plot to show the relationship between `'pricepercent'` (on the horizontal x-axis) and `'winpercent'` (on the vertical y-axis). Use the `'chocolate'` column to color-code the points.  _Don't add any regression lines just yet -- you'll do that in the next step!_"
   ]
  },
  {
   "cell_type": "code",
   "execution_count": 16,
   "id": "73585de2",
   "metadata": {
    "_cell_guid": "8f59c565-55ce-4402-b6b7-bd79a80a21b6",
    "_uuid": "ffeb91b7-4324-42b5-aad2-efa3cbb365c7",
    "collapsed": false,
    "execution": {
     "iopub.execute_input": "2024-01-22T10:22:04.319839Z",
     "iopub.status.busy": "2024-01-22T10:22:04.319438Z",
     "iopub.status.idle": "2024-01-22T10:22:04.623264Z",
     "shell.execute_reply": "2024-01-22T10:22:04.621444Z"
    },
    "jupyter": {
     "outputs_hidden": false
    },
    "papermill": {
     "duration": 0.322471,
     "end_time": "2024-01-22T10:22:04.626123",
     "exception": false,
     "start_time": "2024-01-22T10:22:04.303652",
     "status": "completed"
    },
    "tags": []
   },
   "outputs": [
    {
     "data": {
      "application/javascript": [
       "parent.postMessage({\"jupyterEvent\": \"custom.exercise_interaction\", \"data\": {\"outcomeType\": 1, \"valueTowardsCompletion\": 0.3333333333333333, \"interactionType\": 1, \"questionType\": 2, \"questionId\": \"5_ColorScatter\", \"learnToolsVersion\": \"0.3.4\", \"failureMessage\": \"\", \"exceptionClass\": \"\", \"trace\": \"\"}}, \"*\")"
      ],
      "text/plain": [
       "<IPython.core.display.Javascript object>"
      ]
     },
     "metadata": {},
     "output_type": "display_data"
    },
    {
     "data": {
      "text/markdown": [
       "<span style=\"color:#33cc33\">Correct</span>"
      ],
      "text/plain": [
       "Correct"
      ]
     },
     "metadata": {},
     "output_type": "display_data"
    },
    {
     "data": {
      "image/png": "[encoded data removed]",
      "text/plain": [
       "<Figure size 640x480 with 1 Axes>"
      ]
     },
     "metadata": {},
     "output_type": "display_data"
    }
   ],
   "source": [
    "# Scatter plot showing the relationship between 'pricepercent', 'winpercent', and 'chocolate'\n",
    "sns.scatterplot(x='pricepercent',y='winpercent',hue='chocolate',data=candy_data) # Your code here\n",
    "\n",
    "# Check your answer\n",
    "step_5.check()"
   ]
  },
  {
   "cell_type": "code",
   "execution_count": 17,
   "id": "3745bd6d",
   "metadata": {
    "_cell_guid": "df94a6f2-4b2f-4b4d-9824-068573b45844",
    "_uuid": "698d7b8d-3c1e-43c2-9fe7-58728a662a92",
    "collapsed": false,
    "execution": {
     "iopub.execute_input": "2024-01-22T10:22:04.653412Z",
     "iopub.status.busy": "2024-01-22T10:22:04.653048Z",
     "iopub.status.idle": "2024-01-22T10:22:04.658376Z",
     "shell.execute_reply": "2024-01-22T10:22:04.657413Z"
    },
    "jupyter": {
     "outputs_hidden": false
    },
    "papermill": {
     "duration": 0.021723,
     "end_time": "2024-01-22T10:22:04.660466",
     "exception": false,
     "start_time": "2024-01-22T10:22:04.638743",
     "status": "completed"
    },
    "tags": []
   },
   "outputs": [],
   "source": [
    "# Lines below will give you a hint or solution code\n",
    "#step_5.hint()\n",
    "#step_5.solution_plot()"
   ]
  },
  {
   "cell_type": "markdown",
   "id": "3c239531",
   "metadata": {
    "_cell_guid": "e1196bfa-848a-42d6-8222-36e82deaa920",
    "_uuid": "676b6488-dc55-41ea-983b-d23d6a212e02",
    "papermill": {
     "duration": 0.012146,
     "end_time": "2024-01-22T10:22:04.685188",
     "exception": false,
     "start_time": "2024-01-22T10:22:04.673042",
     "status": "completed"
    },
    "tags": []
   },
   "source": [
    "Can you see any interesting patterns in the scatter plot?  We'll investigate this plot further  by adding regression lines in the next step!\n",
    "\n",
    "## Step 6: Investigate chocolate\n",
    "\n",
    "#### Part A\n",
    "\n",
    "Create the same scatter plot you created in **Step 5**, but now with two regression lines, corresponding to (1) chocolate candies and (2) candies without chocolate."
   ]
  },
  {
   "cell_type": "code",
   "execution_count": 18,
   "id": "e782253d",
   "metadata": {
    "_cell_guid": "0e1e38de-35f7-4d3b-b8fb-82b261b1cee0",
    "_uuid": "5143ed4b-2ae0-46a7-b000-e4495fd54f35",
    "collapsed": false,
    "execution": {
     "iopub.execute_input": "2024-01-22T10:22:04.712083Z",
     "iopub.status.busy": "2024-01-22T10:22:04.711739Z",
     "iopub.status.idle": "2024-01-22T10:22:05.401986Z",
     "shell.execute_reply": "2024-01-22T10:22:05.400278Z"
    },
    "jupyter": {
     "outputs_hidden": false
    },
    "papermill": {
     "duration": 0.707335,
     "end_time": "2024-01-22T10:22:05.405073",
     "exception": false,
     "start_time": "2024-01-22T10:22:04.697738",
     "status": "completed"
    },
    "tags": []
   },
   "outputs": [
    {
     "data": {
      "application/javascript": [
       "parent.postMessage({\"jupyterEvent\": \"custom.exercise_interaction\", \"data\": {\"outcomeType\": 1, \"valueTowardsCompletion\": 0.3333333333333333, \"interactionType\": 1, \"questionType\": 2, \"questionId\": \"6.1_PlotColorReg\", \"learnToolsVersion\": \"0.3.4\", \"failureMessage\": \"\", \"exceptionClass\": \"\", \"trace\": \"\"}}, \"*\")"
      ],
      "text/plain": [
       "<IPython.core.display.Javascript object>"
      ]
     },
     "metadata": {},
     "output_type": "display_data"
    },
    {
     "data": {
      "text/markdown": [
       "<span style=\"color:#33cc33\">Correct</span>"
      ],
      "text/plain": [
       "Correct"
      ]
     },
     "metadata": {},
     "output_type": "display_data"
    },
    {
     "data": {
      "image/png": "[encoded data removed]",
      "text/plain": [
       "<Figure size 578.611x500 with 1 Axes>"
      ]
     },
     "metadata": {},
     "output_type": "display_data"
    }
   ],
   "source": [
    "# Color-coded scatter plot w/ regression lines\n",
    "sns.lmplot(x='pricepercent',y='winpercent',hue='chocolate',data=candy_data) # Your code here\n",
    "\n",
    "# Check your answer\n",
    "step_6.a.check()"
   ]
  },
  {
   "cell_type": "code",
   "execution_count": 19,
   "id": "cb03fed1",
   "metadata": {
    "_cell_guid": "00155b64-3ead-4bf3-b66b-991a5012de42",
    "_uuid": "ab47273e-ea4a-4f12-b482-1f811f188e13",
    "collapsed": false,
    "execution": {
     "iopub.execute_input": "2024-01-22T10:22:05.437069Z",
     "iopub.status.busy": "2024-01-22T10:22:05.436663Z",
     "iopub.status.idle": "2024-01-22T10:22:05.442085Z",
     "shell.execute_reply": "2024-01-22T10:22:05.440779Z"
    },
    "jupyter": {
     "outputs_hidden": false
    },
    "papermill": {
     "duration": 0.02473,
     "end_time": "2024-01-22T10:22:05.444791",
     "exception": false,
     "start_time": "2024-01-22T10:22:05.420061",
     "status": "completed"
    },
    "tags": []
   },
   "outputs": [],
   "source": [
    "# Lines below will give you a hint or solution code\n",
    "#step_6.a.hint()\n",
    "#step_6.a.solution_plot()"
   ]
  },
  {
   "cell_type": "markdown",
   "id": "82c14287",
   "metadata": {
    "_cell_guid": "60f8c5a5-ca08-4502-9e40-538670ecf3c0",
    "_uuid": "82d51557-7ca4-41fa-a59a-5a527f9faab8",
    "papermill": {
     "duration": 0.014081,
     "end_time": "2024-01-22T10:22:05.472992",
     "exception": false,
     "start_time": "2024-01-22T10:22:05.458911",
     "status": "completed"
    },
    "tags": []
   },
   "source": [
    "#### Part B\n",
    "\n",
    "Using the regression lines, what conclusions can you draw about the effects of chocolate and price on candy popularity?"
   ]
  },
  {
   "cell_type": "markdown",
   "id": "9f60dfed",
   "metadata": {
    "_cell_guid": "8f66e0ad-40e0-48b9-9f6e-d0940d6c186a",
    "_uuid": "3287cca7-28b5-48b5-bdba-dda932e421d1",
    "papermill": {
     "duration": 0.018154,
     "end_time": "2024-01-22T10:22:05.507248",
     "exception": false,
     "start_time": "2024-01-22T10:22:05.489094",
     "status": "completed"
    },
    "tags": []
   },
   "source": [
    ">  Because the regression line of chocolate candy is **slightly positive**, the higher price, the more popular chocolate candy is. On the other hand with the regression of non-chocolate candy, there is more poplular with cheaper price one"
   ]
  },
  {
   "cell_type": "code",
   "execution_count": 20,
   "id": "41e6050a",
   "metadata": {
    "_cell_guid": "d672c954-e9e0-4459-aacd-2eee221447d7",
    "_uuid": "aee494e4-316b-402a-b998-d915728c687f",
    "collapsed": false,
    "execution": {
     "iopub.execute_input": "2024-01-22T10:22:05.546748Z",
     "iopub.status.busy": "2024-01-22T10:22:05.546367Z",
     "iopub.status.idle": "2024-01-22T10:22:05.552608Z",
     "shell.execute_reply": "2024-01-22T10:22:05.550903Z"
    },
    "jupyter": {
     "outputs_hidden": false
    },
    "papermill": {
     "duration": 0.02776,
     "end_time": "2024-01-22T10:22:05.555210",
     "exception": false,
     "start_time": "2024-01-22T10:22:05.527450",
     "status": "completed"
    },
    "tags": []
   },
   "outputs": [],
   "source": [
    "#step_6.b.hint()"
   ]
  },
  {
   "cell_type": "code",
   "execution_count": 21,
   "id": "eaddd5d6",
   "metadata": {
    "_cell_guid": "685d9ce1-0608-43ee-82bc-db5b5a5a4d46",
    "_uuid": "3c8a158b-a988-49df-a683-eb3e9bdf1518",
    "collapsed": false,
    "execution": {
     "iopub.execute_input": "2024-01-22T10:22:05.590211Z",
     "iopub.status.busy": "2024-01-22T10:22:05.589869Z",
     "iopub.status.idle": "2024-01-22T10:22:05.598752Z",
     "shell.execute_reply": "2024-01-22T10:22:05.597915Z"
    },
    "jupyter": {
     "outputs_hidden": false
    },
    "papermill": {
     "duration": 0.026656,
     "end_time": "2024-01-22T10:22:05.601285",
     "exception": false,
     "start_time": "2024-01-22T10:22:05.574629",
     "status": "completed"
    },
    "tags": []
   },
   "outputs": [
    {
     "data": {
      "application/javascript": [
       "parent.postMessage({\"jupyterEvent\": \"custom.exercise_interaction\", \"data\": {\"interactionType\": 3, \"questionType\": 4, \"questionId\": \"6.2_ThinkColorReg\", \"learnToolsVersion\": \"0.3.4\", \"valueTowardsCompletion\": 0.0, \"failureMessage\": \"\", \"exceptionClass\": \"\", \"trace\": \"\", \"outcomeType\": 4}}, \"*\")"
      ],
      "text/plain": [
       "<IPython.core.display.Javascript object>"
      ]
     },
     "metadata": {},
     "output_type": "display_data"
    },
    {
     "data": {
      "text/markdown": [
       "<span style=\"color:#33cc99\">Solution:</span> We'll begin with the regression line for chocolate candies. Since this line has a slightly positive slope, we can say that more expensive chocolate candies tend to be more popular (than relatively cheaper chocolate candies).  Likewise, since the regression line for candies without chocolate has a negative slope, we can say that if candies don't contain chocolate, they tend to be more popular when they are cheaper.  One important note, however, is that the dataset is quite small -- so we shouldn't invest too much trust in these patterns!  To inspire more confidence in the results, we should add more candies to the dataset."
      ],
      "text/plain": [
       "Solution: We'll begin with the regression line for chocolate candies. Since this line has a slightly positive slope, we can say that more expensive chocolate candies tend to be more popular (than relatively cheaper chocolate candies).  Likewise, since the regression line for candies without chocolate has a negative slope, we can say that if candies don't contain chocolate, they tend to be more popular when they are cheaper.  One important note, however, is that the dataset is quite small -- so we shouldn't invest too much trust in these patterns!  To inspire more confidence in the results, we should add more candies to the dataset."
      ]
     },
     "metadata": {},
     "output_type": "display_data"
    }
   ],
   "source": [
    "# Check your answer (Run this code cell to receive credit!)\n",
    "step_6.b.solution()"
   ]
  },
  {
   "cell_type": "markdown",
   "id": "5d5caf09",
   "metadata": {
    "_cell_guid": "22274bde-0f67-4a03-9337-daa4a35c9314",
    "_uuid": "ed2bc301-e67f-40c3-8924-d5873f23e68d",
    "papermill": {
     "duration": 0.01329,
     "end_time": "2024-01-22T10:22:05.628191",
     "exception": false,
     "start_time": "2024-01-22T10:22:05.614901",
     "status": "completed"
    },
    "tags": []
   },
   "source": [
    "## Step 7: Everybody loves chocolate.\n",
    "\n",
    "#### Part A\n",
    "\n",
    "Create a categorical scatter plot to highlight the relationship between `'chocolate'` and `'winpercent'`.  Put `'chocolate'` on the (horizontal) x-axis, and `'winpercent'` on the (vertical) y-axis."
   ]
  },
  {
   "cell_type": "code",
   "execution_count": 22,
   "id": "23b4954f",
   "metadata": {
    "_cell_guid": "85329522-a385-4bda-918a-71590fe35c8a",
    "_uuid": "d73b62f3-8103-43d0-987d-c7401de10c37",
    "collapsed": false,
    "execution": {
     "iopub.execute_input": "2024-01-22T10:22:05.660216Z",
     "iopub.status.busy": "2024-01-22T10:22:05.659675Z",
     "iopub.status.idle": "2024-01-22T10:22:05.986310Z",
     "shell.execute_reply": "2024-01-22T10:22:05.985559Z"
    },
    "jupyter": {
     "outputs_hidden": false
    },
    "papermill": {
     "duration": 0.346569,
     "end_time": "2024-01-22T10:22:05.988593",
     "exception": false,
     "start_time": "2024-01-22T10:22:05.642024",
     "status": "completed"
    },
    "tags": []
   },
   "outputs": [
    {
     "data": {
      "application/javascript": [
       "parent.postMessage({\"jupyterEvent\": \"custom.exercise_interaction\", \"data\": {\"outcomeType\": 1, \"valueTowardsCompletion\": 0.3333333333333333, \"interactionType\": 1, \"questionType\": 2, \"questionId\": \"7.1_PlotSwarm\", \"learnToolsVersion\": \"0.3.4\", \"failureMessage\": \"\", \"exceptionClass\": \"\", \"trace\": \"\"}}, \"*\")"
      ],
      "text/plain": [
       "<IPython.core.display.Javascript object>"
      ]
     },
     "metadata": {},
     "output_type": "display_data"
    },
    {
     "data": {
      "text/markdown": [
       "<span style=\"color:#33cc33\">Correct</span>"
      ],
      "text/plain": [
       "Correct"
      ]
     },
     "metadata": {},
     "output_type": "display_data"
    },
    {
     "data": {
      "image/png": "[encoded data removed]",
      "text/plain": [
       "<Figure size 640x480 with 1 Axes>"
      ]
     },
     "metadata": {},
     "output_type": "display_data"
    }
   ],
   "source": [
    "# Scatter plot showing the relationship between 'chocolate' and 'winpercent'\n",
    "sns.swarmplot(x='chocolate',y='winpercent',data=candy_data) # Your code here\n",
    "\n",
    "# Check your answer\n",
    "step_7.a.check()"
   ]
  },
  {
   "cell_type": "code",
   "execution_count": 23,
   "id": "75d1ea71",
   "metadata": {
    "_cell_guid": "97a30011-8335-4b1f-9c90-c92ae2ea4faf",
    "_uuid": "f66c38af-d01a-41e1-abcc-f13b638cf80a",
    "collapsed": false,
    "execution": {
     "iopub.execute_input": "2024-01-22T10:22:06.037094Z",
     "iopub.status.busy": "2024-01-22T10:22:06.035786Z",
     "iopub.status.idle": "2024-01-22T10:22:06.040331Z",
     "shell.execute_reply": "2024-01-22T10:22:06.039587Z"
    },
    "jupyter": {
     "outputs_hidden": false
    },
    "papermill": {
     "duration": 0.031759,
     "end_time": "2024-01-22T10:22:06.042293",
     "exception": false,
     "start_time": "2024-01-22T10:22:06.010534",
     "status": "completed"
    },
    "tags": []
   },
   "outputs": [],
   "source": [
    "# Lines below will give you a hint or solution code\n",
    "#step_7.a.hint()\n",
    "#step_7.a.solution_plot()"
   ]
  },
  {
   "cell_type": "markdown",
   "id": "f9749e7f",
   "metadata": {
    "_cell_guid": "d41c155c-e232-42d8-9b46-4a38f8a30302",
    "_uuid": "0d35a9ad-946c-4100-b241-04ce04c6436b",
    "papermill": {
     "duration": 0.016092,
     "end_time": "2024-01-22T10:22:06.078907",
     "exception": false,
     "start_time": "2024-01-22T10:22:06.062815",
     "status": "completed"
    },
    "tags": []
   },
   "source": [
    "#### Part B\n",
    "\n",
    "You decide to dedicate a section of your report to the fact that chocolate candies tend to be more popular than candies without chocolate.  Which plot is more appropriate to tell this story: the plot from **Step 6**, or the plot from **Step 7**?"
   ]
  },
  {
   "cell_type": "markdown",
   "id": "3bba371c",
   "metadata": {
    "_cell_guid": "18c26d0f-58f3-456b-bc4f-b431cc21332c",
    "_uuid": "ba82887f-fa26-4131-aa6c-7ec6e43d0e40",
    "execution": {
     "iopub.execute_input": "2024-01-22T10:20:57.403933Z",
     "iopub.status.busy": "2024-01-22T10:20:57.403239Z",
     "iopub.status.idle": "2024-01-22T10:20:57.417825Z",
     "shell.execute_reply": "2024-01-22T10:20:57.416175Z",
     "shell.execute_reply.started": "2024-01-22T10:20:57.403890Z"
    },
    "jupyter": {
     "outputs_hidden": false
    },
    "papermill": {
     "duration": 0.014127,
     "end_time": "2024-01-22T10:22:06.109943",
     "exception": false,
     "start_time": "2024-01-22T10:22:06.095816",
     "status": "completed"
    },
    "tags": []
   },
   "source": [
    "> The plot from **Step 7**"
   ]
  },
  {
   "cell_type": "code",
   "execution_count": 24,
   "id": "1443fe81",
   "metadata": {
    "_cell_guid": "853a92fd-9a06-485f-b06b-14b8c9b77a14",
    "_uuid": "37508098-c23f-4678-abb5-4e8eccdeafea",
    "collapsed": false,
    "execution": {
     "iopub.execute_input": "2024-01-22T10:22:06.146871Z",
     "iopub.status.busy": "2024-01-22T10:22:06.146017Z",
     "iopub.status.idle": "2024-01-22T10:22:06.151086Z",
     "shell.execute_reply": "2024-01-22T10:22:06.150055Z"
    },
    "jupyter": {
     "outputs_hidden": false
    },
    "papermill": {
     "duration": 0.027343,
     "end_time": "2024-01-22T10:22:06.153504",
     "exception": false,
     "start_time": "2024-01-22T10:22:06.126161",
     "status": "completed"
    },
    "tags": []
   },
   "outputs": [],
   "source": [
    "#step_7.b.hint()"
   ]
  },
  {
   "cell_type": "code",
   "execution_count": 25,
   "id": "3688e9d8",
   "metadata": {
    "_cell_guid": "a61642f2-75ce-4acc-9a88-31515dcd8f3b",
    "_uuid": "745a1d66-8f3c-4e44-bc7b-42226803409a",
    "collapsed": false,
    "execution": {
     "iopub.execute_input": "2024-01-22T10:22:06.187522Z",
     "iopub.status.busy": "2024-01-22T10:22:06.186711Z",
     "iopub.status.idle": "2024-01-22T10:22:06.195308Z",
     "shell.execute_reply": "2024-01-22T10:22:06.193988Z"
    },
    "jupyter": {
     "outputs_hidden": false
    },
    "papermill": {
     "duration": 0.028129,
     "end_time": "2024-01-22T10:22:06.197389",
     "exception": false,
     "start_time": "2024-01-22T10:22:06.169260",
     "status": "completed"
    },
    "tags": []
   },
   "outputs": [
    {
     "data": {
      "application/javascript": [
       "parent.postMessage({\"jupyterEvent\": \"custom.exercise_interaction\", \"data\": {\"interactionType\": 3, \"questionType\": 4, \"questionId\": \"7.2_ThinkSwarm\", \"learnToolsVersion\": \"0.3.4\", \"valueTowardsCompletion\": 0.0, \"failureMessage\": \"\", \"exceptionClass\": \"\", \"trace\": \"\", \"outcomeType\": 4}}, \"*\")"
      ],
      "text/plain": [
       "<IPython.core.display.Javascript object>"
      ]
     },
     "metadata": {},
     "output_type": "display_data"
    },
    {
     "data": {
      "text/markdown": [
       "<span style=\"color:#33cc99\">Solution:</span> In this case, the categorical scatter plot from **Step 7** is the more appropriate plot. While both plots tell the desired story, the plot from **Step 6** conveys far more information that could distract from the main point."
      ],
      "text/plain": [
       "Solution: In this case, the categorical scatter plot from **Step 7** is the more appropriate plot. While both plots tell the desired story, the plot from **Step 6** conveys far more information that could distract from the main point."
      ]
     },
     "metadata": {},
     "output_type": "display_data"
    }
   ],
   "source": [
    "# Check your answer (Run this code cell to receive credit!)\n",
    "step_7.b.solution()"
   ]
  },
  {
   "cell_type": "markdown",
   "id": "4d33b42b",
   "metadata": {
    "_cell_guid": "14cbb10e-5470-4f9e-bd9b-6aabe6d55bb4",
    "_uuid": "f60178bd-a80d-4b56-b470-0672a661b54c",
    "papermill": {
     "duration": 0.014682,
     "end_time": "2024-01-22T10:22:06.227543",
     "exception": false,
     "start_time": "2024-01-22T10:22:06.212861",
     "status": "completed"
    },
    "tags": []
   },
   "source": [
    "## Keep going\n",
    "\n",
    "Explore **[histograms and density plots](https://www.kaggle.com/alexisbcook/distributions)**."
   ]
  },
  {
   "cell_type": "markdown",
   "id": "c9ee0f0f",
   "metadata": {
    "_cell_guid": "0ce77a66-0772-4140-912a-f5c25ae21a16",
    "_uuid": "89643876-5c98-4c23-b16a-538e067a687a",
    "execution": {
     "iopub.status.busy": "2024-01-22T10:20:57.425312Z",
     "iopub.status.idle": "2024-01-22T10:20:57.426263Z",
     "shell.execute_reply": "2024-01-22T10:20:57.425986Z",
     "shell.execute_reply.started": "2024-01-22T10:20:57.425955Z"
    },
    "jupyter": {
     "outputs_hidden": false
    },
    "papermill": {
     "duration": 0.015361,
     "end_time": "2024-01-22T10:22:06.261178",
     "exception": false,
     "start_time": "2024-01-22T10:22:06.245817",
     "status": "completed"
    },
    "tags": []
   },
   "source": [
    "---\n",
    "\n",
    "\n",
    "\n",
    "\n",
    "*Have questions or comments? Visit the [course discussion forum](https://www.kaggle.com/learn/data-visualization/discussion) to chat with other learners.*"
   ]
  },
  {
   "cell_type": "code",
   "execution_count": null,
   "id": "d9b94001",
   "metadata": {
    "papermill": {
     "duration": 0.016129,
     "end_time": "2024-01-22T10:22:06.292042",
     "exception": false,
     "start_time": "2024-01-22T10:22:06.275913",
     "status": "completed"
    },
    "tags": []
   },
   "outputs": [],
   "source": []
  }
 ],
 "metadata": {
  "kaggle": {
   "accelerator": "none",
   "dataSources": [
    {
     "datasetId": 116573,
     "sourceId": 3551030,
     "sourceType": "datasetVersion"
    }
   ],
   "isGpuEnabled": false,
   "isInternetEnabled": false,
   "language": "python",
   "sourceType": "notebook"
  },
  "kernelspec": {
   "display_name": "Python 3",
   "language": "python",
   "name": "python3"
  },
  "language_info": {
   "codemirror_mode": {
    "name": "ipython",
    "version": 3
   },
   "file_extension": ".py",
   "mimetype": "text/x-python",
   "name": "python",
   "nbconvert_exporter": "python",
   "pygments_lexer": "ipython3",
   "version": "3.10.12"
  },
  "papermill": {
   "default_parameters": {},
   "duration": 9.137791,
   "end_time": "2024-01-22T10:22:06.927789",
   "environment_variables": {},
   "exception": null,
   "input_path": "__notebook__.ipynb",
   "output_path": "__notebook__.ipynb",
   "parameters": {},
   "start_time": "2024-01-22T10:21:57.789998",
   "version": "2.4.0"
  }
 },
 "nbformat": 4,
 "nbformat_minor": 5
}
