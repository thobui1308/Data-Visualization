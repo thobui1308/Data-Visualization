{
 "cells": [
  {
   "cell_type": "markdown",
   "id": "140382b5",
   "metadata": {
    "papermill": {
     "duration": 0.00535,
     "end_time": "2024-01-18T09:28:55.335431",
     "exception": false,
     "start_time": "2024-01-18T09:28:55.330081",
     "status": "completed"
    },
    "tags": []
   },
   "source": [
    "**This notebook is an exercise in the [Data Visualization](https://www.kaggle.com/learn/data-visualization) course.  You can reference the tutorial at [this link](https://www.kaggle.com/alexisbcook/line-charts).**\n",
    "\n",
    "---\n"
   ]
  },
  {
   "cell_type": "markdown",
   "id": "8ed6753b",
   "metadata": {
    "papermill": {
     "duration": 0.004439,
     "end_time": "2024-01-18T09:28:55.344772",
     "exception": false,
     "start_time": "2024-01-18T09:28:55.340333",
     "status": "completed"
    },
    "tags": []
   },
   "source": [
    "In this exercise, you will use your new knowledge to propose a solution to a real-world scenario. To succeed, you will need to import data into Python, answer questions using the data, and generate **line charts** to understand patterns in the data.\n",
    "\n",
    "## Scenario\n",
    "\n",
    "You have recently been hired to manage the museums in the City of Los Angeles. Your first project focuses on the four museums pictured in the images below.\n",
    "\n",
    "![ex1_museums](https://storage.googleapis.com/kaggle-media/learn/images/pFYL8J1.png)\n",
    "\n",
    "You will leverage data from the Los Angeles [Data Portal](https://data.lacity.org/) that tracks monthly visitors to each museum.  \n",
    "\n",
    "![ex1_xlsx](https://storage.googleapis.com/kaggle-media/learn/images/mGWYlym.png)\n",
    "\n",
    "## Setup\n",
    "\n",
    "Run the next cell to import and configure the Python libraries that you need to complete the exercise."
   ]
  },
  {
   "cell_type": "code",
   "execution_count": 1,
   "id": "bdd40905",
   "metadata": {
    "execution": {
     "iopub.execute_input": "2024-01-18T09:28:55.355959Z",
     "iopub.status.busy": "2024-01-18T09:28:55.355294Z",
     "iopub.status.idle": "2024-01-18T09:28:57.136530Z",
     "shell.execute_reply": "2024-01-18T09:28:57.135441Z"
    },
    "papermill": {
     "duration": 1.789029,
     "end_time": "2024-01-18T09:28:57.138437",
     "exception": false,
     "start_time": "2024-01-18T09:28:55.349408",
     "status": "completed"
    },
    "tags": []
   },
   "outputs": [
    {
     "name": "stdout",
     "output_type": "stream",
     "text": [
      "Setup Complete\n"
     ]
    }
   ],
   "source": [
    "import pandas as pd\n",
    "pd.plotting.register_matplotlib_converters()\n",
    "import matplotlib.pyplot as plt\n",
    "%matplotlib inline\n",
    "import seaborn as sns\n",
    "print(\"Setup Complete\")"
   ]
  },
  {
   "cell_type": "markdown",
   "id": "30726a5b",
   "metadata": {
    "papermill": {
     "duration": 0.004872,
     "end_time": "2024-01-18T09:28:57.148586",
     "exception": false,
     "start_time": "2024-01-18T09:28:57.143714",
     "status": "completed"
    },
    "tags": []
   },
   "source": [
    "The questions below will give you feedback on your work. Run the following cell to set up the feedback system."
   ]
  },
  {
   "cell_type": "code",
   "execution_count": 2,
   "id": "1dd9d7d0",
   "metadata": {
    "execution": {
     "iopub.execute_input": "2024-01-18T09:28:57.161135Z",
     "iopub.status.busy": "2024-01-18T09:28:57.160145Z",
     "iopub.status.idle": "2024-01-18T09:28:57.234710Z",
     "shell.execute_reply": "2024-01-18T09:28:57.233436Z"
    },
    "papermill": {
     "duration": 0.083367,
     "end_time": "2024-01-18T09:28:57.237031",
     "exception": false,
     "start_time": "2024-01-18T09:28:57.153664",
     "status": "completed"
    },
    "tags": []
   },
   "outputs": [
    {
     "name": "stdout",
     "output_type": "stream",
     "text": [
      "Setup Complete\n"
     ]
    }
   ],
   "source": [
    "# Set up code checking\n",
    "import os\n",
    "if not os.path.exists(\"../input/museum_visitors.csv\"):\n",
    "    os.symlink(\"../input/data-for-datavis/museum_visitors.csv\", \"../input/museum_visitors.csv\") \n",
    "from learntools.core import binder\n",
    "binder.bind(globals())\n",
    "from learntools.data_viz_to_coder.ex2 import *\n",
    "print(\"Setup Complete\")"
   ]
  },
  {
   "cell_type": "markdown",
   "id": "581b5870",
   "metadata": {
    "papermill": {
     "duration": 0.00485,
     "end_time": "2024-01-18T09:28:57.247123",
     "exception": false,
     "start_time": "2024-01-18T09:28:57.242273",
     "status": "completed"
    },
    "tags": []
   },
   "source": [
    "## Step 1: Load the data\n",
    "\n",
    "Your first assignment is to read the LA Museum Visitors data file into `museum_data`.  Note that:\n",
    "- The filepath to the dataset is stored as `museum_filepath`.  Please **do not** change the provided value of the filepath.\n",
    "- The name of the column to use as row labels is `\"Date\"`.  (This can be seen in cell A1 when the file is opened in Excel.)\n",
    "\n",
    "To help with this, you may find it useful to revisit some relevant code from the tutorial, which we have pasted below:\n",
    "\n",
    "```python\n",
    "# Path of the file to read\n",
    "spotify_filepath = \"../input/spotify.csv\"\n",
    "\n",
    "# Read the file into a variable spotify_data\n",
    "spotify_data = pd.read_csv(spotify_filepath, index_col=\"Date\", parse_dates=True)\n",
    "```\n",
    "\n",
    "The code you need to write now looks very similar!"
   ]
  },
  {
   "cell_type": "code",
   "execution_count": 3,
   "id": "f993ff81",
   "metadata": {
    "execution": {
     "iopub.execute_input": "2024-01-18T09:28:57.259275Z",
     "iopub.status.busy": "2024-01-18T09:28:57.258646Z",
     "iopub.status.idle": "2024-01-18T09:28:57.272861Z",
     "shell.execute_reply": "2024-01-18T09:28:57.271994Z"
    },
    "papermill": {
     "duration": 0.022315,
     "end_time": "2024-01-18T09:28:57.274609",
     "exception": false,
     "start_time": "2024-01-18T09:28:57.252294",
     "status": "completed"
    },
    "tags": []
   },
   "outputs": [
    {
     "data": {
      "application/javascript": [
       "parent.postMessage({\"jupyterEvent\": \"custom.exercise_interaction\", \"data\": {\"outcomeType\": 1, \"valueTowardsCompletion\": 0.3333333333333333, \"interactionType\": 1, \"questionType\": 1, \"questionId\": \"1_LoadMuseumData\", \"learnToolsVersion\": \"0.3.4\", \"failureMessage\": \"\", \"exceptionClass\": \"\", \"trace\": \"\"}}, \"*\")"
      ],
      "text/plain": [
       "<IPython.core.display.Javascript object>"
      ]
     },
     "metadata": {},
     "output_type": "display_data"
    },
    {
     "data": {
      "text/markdown": [
       "<span style=\"color:#33cc33\">Correct</span>"
      ],
      "text/plain": [
       "Correct"
      ]
     },
     "metadata": {},
     "output_type": "display_data"
    }
   ],
   "source": [
    "# Path of the file to read\n",
    "museum_filepath = \"../input/museum_visitors.csv\"\n",
    "\n",
    "# Fill in the line below to read the file into a variable museum_data\n",
    "museum_data = pd.read_csv(\"../input/museum_visitors.csv\", index_col='Date', parse_dates=True)\n",
    "\n",
    "# Run the line below with no changes to check that you've loaded the data correctly\n",
    "step_1.check()"
   ]
  },
  {
   "cell_type": "code",
   "execution_count": 4,
   "id": "a827764e",
   "metadata": {
    "execution": {
     "iopub.execute_input": "2024-01-18T09:28:57.288084Z",
     "iopub.status.busy": "2024-01-18T09:28:57.287412Z",
     "iopub.status.idle": "2024-01-18T09:28:57.291434Z",
     "shell.execute_reply": "2024-01-18T09:28:57.290791Z"
    },
    "papermill": {
     "duration": 0.013308,
     "end_time": "2024-01-18T09:28:57.293863",
     "exception": false,
     "start_time": "2024-01-18T09:28:57.280555",
     "status": "completed"
    },
    "tags": []
   },
   "outputs": [],
   "source": [
    "# Uncomment the line below to receive a hint\n",
    "#step_1.hint()\n",
    "# Uncomment the line below to see the solution\n",
    "#step_1.solution()"
   ]
  },
  {
   "cell_type": "markdown",
   "id": "f357101d",
   "metadata": {
    "papermill": {
     "duration": 0.004839,
     "end_time": "2024-01-18T09:28:57.304060",
     "exception": false,
     "start_time": "2024-01-18T09:28:57.299221",
     "status": "completed"
    },
    "tags": []
   },
   "source": [
    "## Step 2: Review the data\n",
    "\n",
    "Use a Python command to print the last 5 rows of the data."
   ]
  },
  {
   "cell_type": "code",
   "execution_count": 5,
   "id": "9ea7fc53",
   "metadata": {
    "execution": {
     "iopub.execute_input": "2024-01-18T09:28:57.316250Z",
     "iopub.status.busy": "2024-01-18T09:28:57.315940Z",
     "iopub.status.idle": "2024-01-18T09:28:57.332408Z",
     "shell.execute_reply": "2024-01-18T09:28:57.331145Z"
    },
    "papermill": {
     "duration": 0.02539,
     "end_time": "2024-01-18T09:28:57.334725",
     "exception": false,
     "start_time": "2024-01-18T09:28:57.309335",
     "status": "completed"
    },
    "tags": []
   },
   "outputs": [
    {
     "data": {
      "text/html": [
       "<div>\n",
       "<style scoped>\n",
       "    .dataframe tbody tr th:only-of-type {\n",
       "        vertical-align: middle;\n",
       "    }\n",
       "\n",
       "    .dataframe tbody tr th {\n",
       "        vertical-align: top;\n",
       "    }\n",
       "\n",
       "    .dataframe thead th {\n",
       "        text-align: right;\n",
       "    }\n",
       "</style>\n",
       "<table border=\"1\" class=\"dataframe\">\n",
       "  <thead>\n",
       "    <tr style=\"text-align: right;\">\n",
       "      <th></th>\n",
       "      <th>Avila Adobe</th>\n",
       "      <th>Firehouse Museum</th>\n",
       "      <th>Chinese American Museum</th>\n",
       "      <th>America Tropical Interpretive Center</th>\n",
       "    </tr>\n",
       "    <tr>\n",
       "      <th>Date</th>\n",
       "      <th></th>\n",
       "      <th></th>\n",
       "      <th></th>\n",
       "      <th></th>\n",
       "    </tr>\n",
       "  </thead>\n",
       "  <tbody>\n",
       "    <tr>\n",
       "      <th>2018-07-01</th>\n",
       "      <td>23136</td>\n",
       "      <td>4191</td>\n",
       "      <td>2620</td>\n",
       "      <td>4718</td>\n",
       "    </tr>\n",
       "    <tr>\n",
       "      <th>2018-08-01</th>\n",
       "      <td>20815</td>\n",
       "      <td>4866</td>\n",
       "      <td>2409</td>\n",
       "      <td>3891</td>\n",
       "    </tr>\n",
       "    <tr>\n",
       "      <th>2018-09-01</th>\n",
       "      <td>21020</td>\n",
       "      <td>4956</td>\n",
       "      <td>2146</td>\n",
       "      <td>3180</td>\n",
       "    </tr>\n",
       "    <tr>\n",
       "      <th>2018-10-01</th>\n",
       "      <td>19280</td>\n",
       "      <td>4622</td>\n",
       "      <td>2364</td>\n",
       "      <td>3775</td>\n",
       "    </tr>\n",
       "    <tr>\n",
       "      <th>2018-11-01</th>\n",
       "      <td>17163</td>\n",
       "      <td>4082</td>\n",
       "      <td>2385</td>\n",
       "      <td>4562</td>\n",
       "    </tr>\n",
       "  </tbody>\n",
       "</table>\n",
       "</div>"
      ],
      "text/plain": [
       "            Avila Adobe  Firehouse Museum  Chinese American Museum  \\\n",
       "Date                                                                 \n",
       "2018-07-01        23136              4191                     2620   \n",
       "2018-08-01        20815              4866                     2409   \n",
       "2018-09-01        21020              4956                     2146   \n",
       "2018-10-01        19280              4622                     2364   \n",
       "2018-11-01        17163              4082                     2385   \n",
       "\n",
       "            America Tropical Interpretive Center  \n",
       "Date                                              \n",
       "2018-07-01                                  4718  \n",
       "2018-08-01                                  3891  \n",
       "2018-09-01                                  3180  \n",
       "2018-10-01                                  3775  \n",
       "2018-11-01                                  4562  "
      ]
     },
     "execution_count": 5,
     "metadata": {},
     "output_type": "execute_result"
    }
   ],
   "source": [
    "# Print the last five rows of the data \n",
    "museum_data.tail(5) # Your code here"
   ]
  },
  {
   "cell_type": "markdown",
   "id": "fe78689d",
   "metadata": {
    "papermill": {
     "duration": 0.005434,
     "end_time": "2024-01-18T09:28:57.346014",
     "exception": false,
     "start_time": "2024-01-18T09:28:57.340580",
     "status": "completed"
    },
    "tags": []
   },
   "source": [
    "The last row (for `2018-11-01`) tracks the number of visitors to each museum in November 2018, the next-to-last row (for `2018-10-01`) tracks the number of visitors to each museum in October 2018, _and so on_.\n",
    "\n",
    "Use the last 5 rows of the data to answer the questions below."
   ]
  },
  {
   "cell_type": "code",
   "execution_count": 6,
   "id": "c5c1a4af",
   "metadata": {
    "execution": {
     "iopub.execute_input": "2024-01-18T09:28:57.359117Z",
     "iopub.status.busy": "2024-01-18T09:28:57.358779Z",
     "iopub.status.idle": "2024-01-18T09:28:57.368033Z",
     "shell.execute_reply": "2024-01-18T09:28:57.367243Z"
    },
    "papermill": {
     "duration": 0.017921,
     "end_time": "2024-01-18T09:28:57.369739",
     "exception": false,
     "start_time": "2024-01-18T09:28:57.351818",
     "status": "completed"
    },
    "tags": []
   },
   "outputs": [
    {
     "data": {
      "application/javascript": [
       "parent.postMessage({\"jupyterEvent\": \"custom.exercise_interaction\", \"data\": {\"outcomeType\": 1, \"valueTowardsCompletion\": 0.3333333333333333, \"interactionType\": 1, \"questionType\": 1, \"questionId\": \"2_ReviewData\", \"learnToolsVersion\": \"0.3.4\", \"failureMessage\": \"\", \"exceptionClass\": \"\", \"trace\": \"\"}}, \"*\")"
      ],
      "text/plain": [
       "<IPython.core.display.Javascript object>"
      ]
     },
     "metadata": {},
     "output_type": "display_data"
    },
    {
     "data": {
      "text/markdown": [
       "<span style=\"color:#33cc33\">Correct</span>"
      ],
      "text/plain": [
       "Correct"
      ]
     },
     "metadata": {},
     "output_type": "display_data"
    }
   ],
   "source": [
    "# Fill in the line below: How many visitors did the Chinese American Museum \n",
    "# receive in July 2018?\n",
    "ca_museum_jul18 = 2620\n",
    "\n",
    "# Fill in the line below: In October 2018, how many more visitors did Avila \n",
    "# Adobe receive than the Firehouse Museum?\n",
    "avila_oct18 = 14658\n",
    "\n",
    "# Check your answers\n",
    "step_2.check()"
   ]
  },
  {
   "cell_type": "code",
   "execution_count": 7,
   "id": "a2a95713",
   "metadata": {
    "execution": {
     "iopub.execute_input": "2024-01-18T09:28:57.383301Z",
     "iopub.status.busy": "2024-01-18T09:28:57.382903Z",
     "iopub.status.idle": "2024-01-18T09:28:57.387619Z",
     "shell.execute_reply": "2024-01-18T09:28:57.386515Z"
    },
    "papermill": {
     "duration": 0.01423,
     "end_time": "2024-01-18T09:28:57.389784",
     "exception": false,
     "start_time": "2024-01-18T09:28:57.375554",
     "status": "completed"
    },
    "tags": []
   },
   "outputs": [],
   "source": [
    "# Lines below will give you a hint or solution code\n",
    "#step_2.hint()\n",
    "#step_2.solution()"
   ]
  },
  {
   "cell_type": "markdown",
   "id": "2fdc9bac",
   "metadata": {
    "papermill": {
     "duration": 0.007137,
     "end_time": "2024-01-18T09:28:57.403313",
     "exception": false,
     "start_time": "2024-01-18T09:28:57.396176",
     "status": "completed"
    },
    "tags": []
   },
   "source": [
    "## Step 3: Convince the museum board \n",
    "\n",
    "The Firehouse Museum claims they ran an event in 2014 that brought an incredible number of visitors, and that they should get extra budget to run a similar event again.  The other museums think these types of events aren't that important, and budgets should be split purely based on recent visitors on an average day.  \n",
    "\n",
    "To show the museum board how the event compared to regular traffic at each museum, create a line chart that shows how the number of visitors to each museum evolved over time.  Your figure should have four lines (one for each museum).\n",
    "\n",
    "> **(Optional) Note**: If you have some prior experience with plotting figures in Python, you might be familiar with the `plt.show()` command.  If you decide to use this command, please place it **after** the line of code that checks your answer (in this case, place it after `step_3.check()` below) -- otherwise, the checking code will return an error!"
   ]
  },
  {
   "cell_type": "code",
   "execution_count": 8,
   "id": "d200c0a1",
   "metadata": {
    "execution": {
     "iopub.execute_input": "2024-01-18T09:28:57.417430Z",
     "iopub.status.busy": "2024-01-18T09:28:57.417044Z",
     "iopub.status.idle": "2024-01-18T09:28:57.840166Z",
     "shell.execute_reply": "2024-01-18T09:28:57.838944Z"
    },
    "papermill": {
     "duration": 0.433444,
     "end_time": "2024-01-18T09:28:57.842638",
     "exception": false,
     "start_time": "2024-01-18T09:28:57.409194",
     "status": "completed"
    },
    "tags": []
   },
   "outputs": [
    {
     "data": {
      "application/javascript": [
       "parent.postMessage({\"jupyterEvent\": \"custom.exercise_interaction\", \"data\": {\"outcomeType\": 1, \"valueTowardsCompletion\": 0.3333333333333333, \"interactionType\": 1, \"questionType\": 2, \"questionId\": \"3_PlotAll\", \"learnToolsVersion\": \"0.3.4\", \"failureMessage\": \"\", \"exceptionClass\": \"\", \"trace\": \"\"}}, \"*\")"
      ],
      "text/plain": [
       "<IPython.core.display.Javascript object>"
      ]
     },
     "metadata": {},
     "output_type": "display_data"
    },
    {
     "data": {
      "text/markdown": [
       "<span style=\"color:#33cc33\">Correct</span>"
      ],
      "text/plain": [
       "Correct"
      ]
     },
     "metadata": {},
     "output_type": "display_data"
    },
    {
     "data": {
      "image/png": "[encoded data removed]",
      "text/plain": [
       "<Figure size 640x480 with 1 Axes>"
      ]
     },
     "metadata": {},
     "output_type": "display_data"
    }
   ],
   "source": [
    "# Line chart showing the number of visitors to each museum over time\n",
    "# Your code here\n",
    "plt.title('here')\n",
    "sns.lineplot(data=museum_data)\n",
    "\n",
    "# Check your answer\n",
    "step_3.check()"
   ]
  },
  {
   "cell_type": "code",
   "execution_count": 9,
   "id": "1033a5e7",
   "metadata": {
    "execution": {
     "iopub.execute_input": "2024-01-18T09:28:57.857844Z",
     "iopub.status.busy": "2024-01-18T09:28:57.857506Z",
     "iopub.status.idle": "2024-01-18T09:28:57.862092Z",
     "shell.execute_reply": "2024-01-18T09:28:57.860687Z"
    },
    "papermill": {
     "duration": 0.014897,
     "end_time": "2024-01-18T09:28:57.864399",
     "exception": false,
     "start_time": "2024-01-18T09:28:57.849502",
     "status": "completed"
    },
    "tags": []
   },
   "outputs": [],
   "source": [
    "# Lines below will give you a hint or solution code\n",
    "#step_3.hint()\n",
    "#step_3.solution_plot()"
   ]
  },
  {
   "cell_type": "markdown",
   "id": "6b20d2ce",
   "metadata": {
    "papermill": {
     "duration": 0.006397,
     "end_time": "2024-01-18T09:28:57.877655",
     "exception": false,
     "start_time": "2024-01-18T09:28:57.871258",
     "status": "completed"
    },
    "tags": []
   },
   "source": [
    "## Step 4: Assess seasonality\n",
    "\n",
    "When meeting with the employees at Avila Adobe, you hear that one major pain point is that the number of museum visitors varies greatly with the seasons, with low seasons (when the employees are perfectly staffed and happy) and also high seasons (when the employees are understaffed and stressed).  You realize that if you can predict these high and low seasons, you can plan ahead to hire some additional seasonal employees to help out with the extra work.\n",
    "\n",
    "#### Part A\n",
    "Create a line chart that shows how the number of visitors to Avila Adobe has evolved over time.  (_If your code returns an error, the first thing that you should check is that you've spelled the name of the column correctly!  You must write the name of the column exactly as it appears in the dataset._)"
   ]
  },
  {
   "cell_type": "code",
   "execution_count": 10,
   "id": "55ca5f6f",
   "metadata": {
    "execution": {
     "iopub.execute_input": "2024-01-18T09:28:57.892585Z",
     "iopub.status.busy": "2024-01-18T09:28:57.891961Z",
     "iopub.status.idle": "2024-01-18T09:28:58.171322Z",
     "shell.execute_reply": "2024-01-18T09:28:58.170337Z"
    },
    "papermill": {
     "duration": 0.289585,
     "end_time": "2024-01-18T09:28:58.173727",
     "exception": false,
     "start_time": "2024-01-18T09:28:57.884142",
     "status": "completed"
    },
    "tags": []
   },
   "outputs": [
    {
     "name": "stdout",
     "output_type": "stream",
     "text": [
      "Thank you for creating a line chart!  To see how your code compares to the official solution, please use the code cell below.\n"
     ]
    },
    {
     "data": {
      "application/javascript": [
       "parent.postMessage({\"jupyterEvent\": \"custom.exercise_interaction\", \"data\": {\"outcomeType\": 1, \"valueTowardsCompletion\": 0.3333333333333333, \"interactionType\": 1, \"questionType\": 2, \"questionId\": \"4.1_PlotAvila\", \"learnToolsVersion\": \"0.3.4\", \"failureMessage\": \"\", \"exceptionClass\": \"\", \"trace\": \"\"}}, \"*\")"
      ],
      "text/plain": [
       "<IPython.core.display.Javascript object>"
      ]
     },
     "metadata": {},
     "output_type": "display_data"
    },
    {
     "data": {
      "text/markdown": [
       "<span style=\"color:#33cc33\">Correct</span>"
      ],
      "text/plain": [
       "Correct"
      ]
     },
     "metadata": {},
     "output_type": "display_data"
    },
    {
     "data": {
      "image/png": "[encoded data removed]",
      "text/plain": [
       "<Figure size 640x480 with 1 Axes>"
      ]
     },
     "metadata": {},
     "output_type": "display_data"
    }
   ],
   "source": [
    "# Line plot showing the number of visitors to Avila Adobe over time\n",
    "sns.lineplot(data=museum_data['Avila Adobe'], label='Avila Adobe') # Your code here\n",
    "\n",
    "# Check your answer\n",
    "step_4.a.check()"
   ]
  },
  {
   "cell_type": "code",
   "execution_count": 11,
   "id": "c9f24880",
   "metadata": {
    "execution": {
     "iopub.execute_input": "2024-01-18T09:28:58.190542Z",
     "iopub.status.busy": "2024-01-18T09:28:58.190168Z",
     "iopub.status.idle": "2024-01-18T09:28:58.194106Z",
     "shell.execute_reply": "2024-01-18T09:28:58.193205Z"
    },
    "papermill": {
     "duration": 0.014658,
     "end_time": "2024-01-18T09:28:58.196004",
     "exception": false,
     "start_time": "2024-01-18T09:28:58.181346",
     "status": "completed"
    },
    "tags": []
   },
   "outputs": [],
   "source": [
    "# Lines below will give you a hint or solution code\n",
    "#step_4.a.hint()\n",
    "#step_4.a.solution_plot()"
   ]
  },
  {
   "cell_type": "markdown",
   "id": "c723d4d5",
   "metadata": {
    "papermill": {
     "duration": 0.007177,
     "end_time": "2024-01-18T09:28:58.210771",
     "exception": false,
     "start_time": "2024-01-18T09:28:58.203594",
     "status": "completed"
    },
    "tags": []
   },
   "source": [
    "#### Part B\n",
    "\n",
    "Does Avila Adobe get more visitors:\n",
    "- in September-February (in LA, the fall and winter months), or \n",
    "- in March-August (in LA, the spring and summer)?  \n",
    "\n",
    "Using this information, when should the museum staff additional seasonal employees?"
   ]
  },
  {
   "cell_type": "markdown",
   "id": "b670c03b",
   "metadata": {
    "execution": {
     "iopub.execute_input": "2024-01-18T07:42:22.710227Z",
     "iopub.status.busy": "2024-01-18T07:42:22.709781Z",
     "iopub.status.idle": "2024-01-18T07:42:22.715242Z",
     "shell.execute_reply": "2024-01-18T07:42:22.714210Z",
     "shell.execute_reply.started": "2024-01-18T07:42:22.710194Z"
    },
    "papermill": {
     "duration": 0.007054,
     "end_time": "2024-01-18T09:28:58.225229",
     "exception": false,
     "start_time": "2024-01-18T09:28:58.218175",
     "status": "completed"
    },
    "tags": []
   },
   "source": [
    "> Avila Adobe should hire more seasonal employee in March-August because of higher visitor"
   ]
  },
  {
   "cell_type": "code",
   "execution_count": 12,
   "id": "1b924e4e",
   "metadata": {
    "execution": {
     "iopub.execute_input": "2024-01-18T09:28:58.241666Z",
     "iopub.status.busy": "2024-01-18T09:28:58.241324Z",
     "iopub.status.idle": "2024-01-18T09:28:58.245078Z",
     "shell.execute_reply": "2024-01-18T09:28:58.244036Z"
    },
    "papermill": {
     "duration": 0.014862,
     "end_time": "2024-01-18T09:28:58.247419",
     "exception": false,
     "start_time": "2024-01-18T09:28:58.232557",
     "status": "completed"
    },
    "tags": []
   },
   "outputs": [],
   "source": [
    "#step_4.b.hint()"
   ]
  },
  {
   "cell_type": "code",
   "execution_count": 13,
   "id": "27b04d9d",
   "metadata": {
    "execution": {
     "iopub.execute_input": "2024-01-18T09:28:58.265131Z",
     "iopub.status.busy": "2024-01-18T09:28:58.264577Z",
     "iopub.status.idle": "2024-01-18T09:28:58.272181Z",
     "shell.execute_reply": "2024-01-18T09:28:58.271029Z"
    },
    "papermill": {
     "duration": 0.018888,
     "end_time": "2024-01-18T09:28:58.274208",
     "exception": false,
     "start_time": "2024-01-18T09:28:58.255320",
     "status": "completed"
    },
    "tags": []
   },
   "outputs": [
    {
     "data": {
      "application/javascript": [
       "parent.postMessage({\"jupyterEvent\": \"custom.exercise_interaction\", \"data\": {\"interactionType\": 3, \"questionType\": 4, \"questionId\": \"4.2_ThinkAvila\", \"learnToolsVersion\": \"0.3.4\", \"valueTowardsCompletion\": 0.0, \"failureMessage\": \"\", \"exceptionClass\": \"\", \"trace\": \"\", \"outcomeType\": 4}}, \"*\")"
      ],
      "text/plain": [
       "<IPython.core.display.Javascript object>"
      ]
     },
     "metadata": {},
     "output_type": "display_data"
    },
    {
     "data": {
      "text/markdown": [
       "<span style=\"color:#33cc99\">Solution:</span> The line chart generally dips to relatively low values around the early part of each year (in December and January), and reaches its highest values in the middle of the year (especially around May and June).  Thus, Avila Adobe usually gets more visitors in March-August (or the spring and summer months).  With this in mind, Avila Adobe could definitely benefit from hiring more seasonal employees to help with the extra work in March-August (the spring and summer)!"
      ],
      "text/plain": [
       "Solution: The line chart generally dips to relatively low values around the early part of each year (in December and January), and reaches its highest values in the middle of the year (especially around May and June).  Thus, Avila Adobe usually gets more visitors in March-August (or the spring and summer months).  With this in mind, Avila Adobe could definitely benefit from hiring more seasonal employees to help with the extra work in March-August (the spring and summer)!"
      ]
     },
     "metadata": {},
     "output_type": "display_data"
    }
   ],
   "source": [
    "# Check your answer (Run this code cell to receive credit!)\n",
    "step_4.b.solution()"
   ]
  },
  {
   "cell_type": "markdown",
   "id": "cf41abda",
   "metadata": {
    "papermill": {
     "duration": 0.007041,
     "end_time": "2024-01-18T09:28:58.288820",
     "exception": false,
     "start_time": "2024-01-18T09:28:58.281779",
     "status": "completed"
    },
    "tags": []
   },
   "source": [
    "# Keep going\n",
    "\n",
    "Move on to learn about **[bar charts and heatmaps](https://www.kaggle.com/alexisbcook/bar-charts-and-heatmaps)** with a new dataset!"
   ]
  },
  {
   "cell_type": "markdown",
   "id": "5e9575af",
   "metadata": {
    "papermill": {
     "duration": 0.00708,
     "end_time": "2024-01-18T09:28:58.303099",
     "exception": false,
     "start_time": "2024-01-18T09:28:58.296019",
     "status": "completed"
    },
    "tags": []
   },
   "source": [
    "---\n",
    "\n",
    "\n",
    "\n",
    "\n",
    "*Have questions or comments? Visit the [course discussion forum](https://www.kaggle.com/learn/data-visualization/discussion) to chat with other learners.*"
   ]
  }
 ],
 "metadata": {
  "kaggle": {
   "accelerator": "none",
   "dataSources": [
    {
     "datasetId": 116573,
     "sourceId": 3551030,
     "sourceType": "datasetVersion"
    }
   ],
   "isGpuEnabled": false,
   "isInternetEnabled": false,
   "language": "python",
   "sourceType": "notebook"
  },
  "kernelspec": {
   "display_name": "Python 3",
   "language": "python",
   "name": "python3"
  },
  "language_info": {
   "codemirror_mode": {
    "name": "ipython",
    "version": 3
   },
   "file_extension": ".py",
   "mimetype": "text/x-python",
   "name": "python",
   "nbconvert_exporter": "python",
   "pygments_lexer": "ipython3",
   "version": "3.10.12"
  },
  "papermill": {
   "default_parameters": {},
   "duration": 6.32381,
   "end_time": "2024-01-18T09:28:58.931857",
   "environment_variables": {},
   "exception": null,
   "input_path": "__notebook__.ipynb",
   "output_path": "__notebook__.ipynb",
   "parameters": {},
   "start_time": "2024-01-18T09:28:52.608047",
   "version": "2.4.0"
  }
 },
 "nbformat": 4,
 "nbformat_minor": 5
}
